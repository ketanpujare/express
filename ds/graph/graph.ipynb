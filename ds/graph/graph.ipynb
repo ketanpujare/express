{
 "cells": [
  {
   "cell_type": "code",
   "execution_count": 1,
   "metadata": {},
   "outputs": [],
   "source": [
    "from collections  import defaultdict"
   ]
  },
  {
   "cell_type": "code",
   "execution_count": 37,
   "metadata": {},
   "outputs": [],
   "source": [
    "class Graph(object):\n",
    "    \"\"\" Graph data structure, undirected by default. \"\"\"\n",
    "    \n",
    "    def __init__(self, connections, directed=False):\n",
    "        self._graph = defaultdict(set)\n",
    "        self._directed = directed\n",
    "        self.add_connections(connections)\n",
    "\n",
    "    def add_connections(self, connections):\n",
    "        \"\"\" Add connections (list of tuple pairs) to graph \"\"\"\n",
    "\n",
    "        for node1, node2 in connections:\n",
    "            self.add(node1, node2)\n",
    "\n",
    "    def add(self, node1, node2):\n",
    "        \"\"\" Add connection between node1 and node2 \"\"\"\n",
    "\n",
    "        self._graph[node1].add(node2)\n",
    "        if not self._directed:\n",
    "            self._graph[node2].add(node1)\n",
    "\n",
    "    def remove(self, node):\n",
    "        \"\"\" Remove all references to node \"\"\"\n",
    "\n",
    "        for n, cxns in self._graph.items():\n",
    "            try:\n",
    "                cxns.remove(node)\n",
    "            except KeyError:\n",
    "                pass\n",
    "\n",
    "        try:\n",
    "            del self._graph[node]\n",
    "        except KeyError:\n",
    "            pass\n",
    "\n",
    "    def is_connected(self, node1, node2):\n",
    "        \"\"\" Is node1 directly connected to node2 \"\"\"\n",
    "\n",
    "        if node1 in self._graph:\n",
    "            return node2 in self._graph[node1]\n",
    "        return False\n",
    "\n",
    "    def find_path(self, node1, node2, path=[]):\n",
    "        \"\"\" Find any path between node1 and node2 (may not be shortest) \"\"\"\n",
    "\n",
    "        path = path + [node1]\n",
    "        if node1 == node2:\n",
    "            return path\n",
    "\n",
    "        if node1 not in self._graph:\n",
    "            return None\n",
    "\n",
    "        for node in self._graph[node1]:\n",
    "            if node not in path:\n",
    "                new_path = self.find_path(node, node2, path)\n",
    "                if new_path:\n",
    "                    return new_path\n",
    "\n",
    "\n",
    "    def __str__(self):\n",
    "        return '{}({})'.format(self.__class__.__name__, dict(self._graph))\n",
    "    "
   ]
  },
  {
   "cell_type": "code",
   "execution_count": 38,
   "metadata": {},
   "outputs": [],
   "source": [
    "connections = [('A', 'B'), ('B', 'C'), ('B', 'D'),\n",
    "                   ('C', 'D'), ('E', 'F'), ('F', 'C')]"
   ]
  },
  {
   "cell_type": "code",
   "execution_count": 39,
   "metadata": {},
   "outputs": [],
   "source": [
    "g = Graph(connections)"
   ]
  },
  {
   "cell_type": "code",
   "execution_count": 46,
   "metadata": {},
   "outputs": [
    {
     "name": "stdout",
     "output_type": "stream",
     "text": [
      "defaultdict(<class 'set'>,\n",
      "            {'A': {'B'},\n",
      "             'B': {'A', 'K'},\n",
      "             'C': {'D', 'F'},\n",
      "             'D': {'C'},\n",
      "             'E': {'F'},\n",
      "             'F': {'E', 'C'},\n",
      "             'K': {'B'}})\n"
     ]
    }
   ],
   "source": [
    "from pprint  import pprint\n",
    "pprint(g._graph)"
   ]
  },
  {
   "cell_type": "code",
   "execution_count": 45,
   "metadata": {},
   "outputs": [],
   "source": [
    "g.add('B','A')"
   ]
  },
  {
   "cell_type": "code",
   "execution_count": 48,
   "metadata": {},
   "outputs": [
    {
     "data": {
      "text/plain": [
       "['A', 'B', 'K']"
      ]
     },
     "execution_count": 48,
     "metadata": {},
     "output_type": "execute_result"
    }
   ],
   "source": [
    "g.find_path('A','K')"
   ]
  },
  {
   "cell_type": "code",
   "execution_count": 40,
   "metadata": {},
   "outputs": [],
   "source": [
    "g.remove('B')"
   ]
  },
  {
   "cell_type": "code",
   "execution_count": null,
   "metadata": {},
   "outputs": [],
   "source": []
  }
 ],
 "metadata": {
  "kernelspec": {
   "display_name": "Python 3",
   "language": "python",
   "name": "python3"
  },
  "language_info": {
   "codemirror_mode": {
    "name": "ipython",
    "version": 3
   },
   "file_extension": ".py",
   "mimetype": "text/x-python",
   "name": "python",
   "nbconvert_exporter": "python",
   "pygments_lexer": "ipython3",
   "version": "3.6.9"
  }
 },
 "nbformat": 4,
 "nbformat_minor": 4
}
